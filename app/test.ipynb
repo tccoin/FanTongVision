{
 "cells": [
  {
   "cell_type": "code",
   "execution_count": 1,
   "metadata": {},
   "outputs": [],
   "source": [
    "import cv2\n",
    "import pymynt\n",
    "import numpy as np\n",
    "\n",
    "watching_point = None\n",
    "\n",
    "pymynt.init_camera('raw')"
   ]
  },
  {
   "cell_type": "code",
   "execution_count": 2,
   "metadata": {},
   "outputs": [],
   "source": [
    "def depth2img(mat):\n",
    "    out = mat/np.max(mat)*255\n",
    "    out = out.astype('uint8')\n",
    "    out = cv2.cvtColor(out, cv2.COLOR_GRAY2RGB)\n",
    "    return out"
   ]
  },
  {
   "cell_type": "code",
   "execution_count": 3,
   "metadata": {},
   "outputs": [
    {
     "data": {
      "text/plain": [
       "array([[256,   0,   0, ...,   0,   0,   0],\n",
       "       [  0,   0,   0, ...,   0,   0,   0],\n",
       "       [  0,   0,   0, ...,   0,   0,   0],\n",
       "       ...,\n",
       "       [  0,   0,   0, ...,   0,   0,   0],\n",
       "       [  0,   0,   0, ...,   0,   0,   0],\n",
       "       [  0,   0,   0, ...,   0,   0,   0]], dtype=uint16)"
      ]
     },
     "execution_count": 3,
     "metadata": {},
     "output_type": "execute_result"
    }
   ],
   "source": [
    "mat = pymynt.get_depth_image()\n",
    "mat"
   ]
  },
  {
   "cell_type": "code",
   "execution_count": 24,
   "metadata": {},
   "outputs": [
    {
     "name": "stdout",
     "output_type": "stream",
     "text": [
      "[(612, 897), (899, 899)]\n"
     ]
    }
   ],
   "source": [
    "edit = np.where((mat>400) & (mat<500),1,0)\n",
    "boxline = np.where(np.sum(edit,0)>25,1,0)\n",
    "\n",
    "box = []\n",
    "bias = 0\n",
    "boxlinecut = boxline.copy()\n",
    "while boxlinecut.shape[0]>0:\n",
    "    _ = np.where(boxlinecut==1)[0]\n",
    "    if _.shape[0]>0:\n",
    "        left = _[0] + bias\n",
    "        bias += _[0]\n",
    "    else:\n",
    "        break\n",
    "    boxlinecut = boxline.copy()[bias:]\n",
    "    _ = np.where(boxlinecut==0)[0]\n",
    "    if _.shape[0]>0:\n",
    "        right = _[0] -1 + bias\n",
    "        bias += _[0]\n",
    "    else:\n",
    "        right = mat.shape[0]\n",
    "        bias = mat.shape[0]\n",
    "    box += [(left,right)]\n",
    "    boxlinecut = boxline.copy()[bias:]\n",
    "        \n",
    "print(box)\n",
    "\n",
    "cv2.imshow('depth',depth2img(edit))\n",
    "cv2.waitKey(1000)\n",
    "cv2.destroyAllWindows()"
   ]
  },
  {
   "cell_type": "code",
   "execution_count": null,
   "metadata": {},
   "outputs": [],
   "source": [
    "while left_index<mat.shape[1]:\n",
    "    "
   ]
  },
  {
   "cell_type": "code",
   "execution_count": 29,
   "metadata": {},
   "outputs": [
    {
     "data": {
      "text/plain": [
       "312"
      ]
     },
     "execution_count": 29,
     "metadata": {},
     "output_type": "execute_result"
    }
   ],
   "source": [
    "_ = np.where(boxline==1)[0]\n",
    "_.shape[0]>0"
   ]
  },
  {
   "cell_type": "code",
   "execution_count": 47,
   "metadata": {},
   "outputs": [
    {
     "data": {
      "text/plain": [
       "array([35, 30, 30, 27, 25, 29, 30, 33, 26, 24, 29, 21, 19, 13, 11, 11, 15,\n",
       "       14, 16, 15])"
      ]
     },
     "execution_count": 47,
     "metadata": {},
     "output_type": "execute_result"
    }
   ],
   "source": [
    "_1=490\n",
    "np.sum(edit,0)[_1:_1+20]"
   ]
  },
  {
   "cell_type": "code",
   "execution_count": 15,
   "metadata": {},
   "outputs": [
    {
     "data": {
      "text/plain": [
       "array([0, 0, 0, 0, 0, 0, 0, 0, 0, 0, 0, 1, 0, 1, 1, 1, 1, 1, 0, 0, 0, 0,\n",
       "       0, 0, 0, 0])"
      ]
     },
     "execution_count": 15,
     "metadata": {},
     "output_type": "execute_result"
    }
   ],
   "source": [
    "boxline[::50]"
   ]
  },
  {
   "cell_type": "code",
   "execution_count": 16,
   "metadata": {},
   "outputs": [],
   "source": [
    "cv2.imshow('depth',depth2img(edit))\n",
    "cv2.waitKey(10000)\n",
    "cv2.destroyAllWindows()"
   ]
  },
  {
   "cell_type": "code",
   "execution_count": 25,
   "metadata": {},
   "outputs": [],
   "source": [
    "_boxline = boxline"
   ]
  },
  {
   "cell_type": "code",
   "execution_count": 20,
   "metadata": {},
   "outputs": [
    {
     "data": {
      "text/plain": [
       "array([0, 0, 0, 0, 0, 0, 0, 0, 0, 1, 1, 1, 1])"
      ]
     },
     "execution_count": 20,
     "metadata": {},
     "output_type": "execute_result"
    }
   ],
   "source": [
    "boxline = _boxline"
   ]
  },
  {
   "cell_type": "code",
   "execution_count": null,
   "metadata": {},
   "outputs": [],
   "source": []
  }
 ],
 "metadata": {
  "kernelspec": {
   "display_name": "Python 3",
   "language": "python",
   "name": "python3"
  },
  "language_info": {
   "codemirror_mode": {
    "name": "ipython",
    "version": 3
   },
   "file_extension": ".py",
   "mimetype": "text/x-python",
   "name": "python",
   "nbconvert_exporter": "python",
   "pygments_lexer": "ipython3",
   "version": "3.7.5"
  }
 },
 "nbformat": 4,
 "nbformat_minor": 4
}
