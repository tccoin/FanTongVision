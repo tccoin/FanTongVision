{
 "cells": [
  {
   "cell_type": "code",
   "execution_count": null,
   "metadata": {},
   "outputs": [],
   "source": [
    "# -*- coding: utf-8 -*-\n",
    "import cv2  \n",
    "import numpy as np\n",
    "import sys\n",
    "sys.path.append(\"..\")\n",
    "from autoaim import *"
   ]
  },
  {
   "cell_type": "code",
   "execution_count": 52,
   "metadata": {},
   "outputs": [],
   "source": [
    "class Camera():\n",
    "    def __init__(self, source):\n",
    "        self.source = source\n",
    "        self.capture = cv2.VideoCapture(source)\n",
    "\n",
    "    def snapshot(self, start, stop, interval, save_to):\n",
    "        '''\n",
    "        start: \"hour:minute:second\"\n",
    "        stop : \"hour:minute:second\"\n",
    "        interval: 1000(ms)\n",
    "        save_to: url\n",
    "        '''\n",
    "        capture = self.capture\n",
    "        fps = round(capture.get(cv2.CAP_PROP_FPS))\n",
    "        start = self.__parse_time(start) * fps\n",
    "        stop = self.__parse_time(stop) * fps\n",
    "        interval = int(interval / 1000 * fps)\n",
    "        for i in range(start, stop, interval):\n",
    "            capture.set(cv2.CAP_PROP_POS_FRAMES, i)\n",
    "            success, img = capture.read()\n",
    "            if success:\n",
    "                # helpers.showoff(img)\n",
    "                cv2.imwrite(save_to+str(i)+'.jpeg', img)\n",
    "\n",
    "    def __parse_time(self,str):\n",
    "        t = np.array([int(x) for x in str.split(':')])\n",
    "        w = np.array([3600,60,1])\n",
    "        return t.dot(w)"
   ]
  },
  {
   "cell_type": "code",
   "execution_count": 53,
   "metadata": {},
   "outputs": [],
   "source": [
    "cam = Camera('/home/link/Codes/RV-AutoAim/data/Rick.and.Morty.S03E07.mp4')\n",
    "cam.snapshot('00:01:00','00:01:10',500,'/home/link/Codes/RV-AutoAim/data/capture/')"
   ]
  },
  {
   "cell_type": "code",
   "execution_count": 55,
   "metadata": {},
   "outputs": [
    {
     "data": {
      "text/plain": [
       "\u001b[0;31mType:\u001b[0m        module\n",
       "\u001b[0;31mString form:\u001b[0m <module 'cv2' from '/home/link/.conda/envs/cv/lib/python3.6/site-packages/cv2.cpython-36m-x86_64-linux-gnu.so'>\n",
       "\u001b[0;31mFile:\u001b[0m        ~/.conda/envs/cv/lib/python3.6/site-packages/cv2.cpython-36m-x86_64-linux-gnu.so\n",
       "\u001b[0;31mDocstring:\u001b[0m   Python wrapper for OpenCV.\n"
      ]
     },
     "metadata": {},
     "output_type": "display_data"
    }
   ],
   "source": [
    "cv2"
   ]
  },
  {
   "cell_type": "code",
   "execution_count": null,
   "metadata": {},
   "outputs": [],
   "source": []
  }
 ],
 "metadata": {
  "kernelspec": {
   "display_name": "Python 3",
   "language": "python",
   "name": "python3"
  },
  "language_info": {
   "codemirror_mode": {
    "name": "ipython",
    "version": 3
   },
   "file_extension": ".py",
   "mimetype": "text/x-python",
   "name": "python",
   "nbconvert_exporter": "python",
   "pygments_lexer": "ipython3",
   "version": "3.6.8"
  }
 },
 "nbformat": 4,
 "nbformat_minor": 2
}
